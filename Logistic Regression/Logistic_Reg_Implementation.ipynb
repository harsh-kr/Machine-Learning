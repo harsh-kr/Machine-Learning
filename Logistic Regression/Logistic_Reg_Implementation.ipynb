{
 "cells": [
  {
   "cell_type": "code",
   "execution_count": 1,
   "metadata": {},
   "outputs": [],
   "source": [
    "import numpy as np\n",
    "import pandas as pd\n",
    "from sklearn.preprocessing import normalize\n",
    "dt=pd.read_csv('https://archive.ics.uci.edu/ml/machine-learning-databases/breast-cancer-wisconsin/breast-cancer-wisconsin.data')\n",
    "dt.columns=list('abcdefghij')+['class']\n",
    "dt.dropna().shape,dt.shape\n",
    "dt['g'].unique()\n",
    "dt=dt.replace('?',15)\n",
    "dt['g']=dt['g'].astype(dtype='i')\n",
    "x=dt.drop(['a','class'],axis=1)\n",
    "y=np.where(dt['class']==2,0,1)\n",
    "from sklearn.model_selection import train_test_split\n",
    "x_tr,x_ts,y_tr,y_ts=train_test_split(x,y,test_size=0.2)"
   ]
  },
  {
   "cell_type": "code",
   "execution_count": 2,
   "metadata": {},
   "outputs": [],
   "source": [
    "def sig(z):\n",
    "    return 1/(1+np.exp(-z))"
   ]
  },
  {
   "cell_type": "code",
   "execution_count": 3,
   "metadata": {},
   "outputs": [],
   "source": [
    "import numpy.matlib as ml \n",
    "def cost(x,y,th):\n",
    "    t=ml.matrix(th)\n",
    "    dx=ml.matrix(x)\n",
    "    c1=(y*np.array(np.log(sig(t*dx.T))))\n",
    "    c2=((1-y)*np.array(np.log(1-sig(t*dx.T))))\n",
    "    c=c1+c2 \n",
    "    return -1*c.mean()"
   ]
  },
  {
   "cell_type": "code",
   "execution_count": 4,
   "metadata": {},
   "outputs": [
    {
     "data": {
      "text/plain": [
       "0.6931471805599453"
      ]
     },
     "execution_count": 4,
     "metadata": {},
     "output_type": "execute_result"
    }
   ],
   "source": [
    "th=np.zeros((1,9))\n",
    "cost(x_tr,y_tr,th)"
   ]
  },
  {
   "cell_type": "code",
   "execution_count": 5,
   "metadata": {},
   "outputs": [],
   "source": [
    "def des(x,y,th):\n",
    "    t=ml.matrix(th)\n",
    "    dx=ml.matrix(x)\n",
    "    err=sig(t*dx.T)-y\n",
    "    return (th-np.array(0.01*(np.array(err.T)*x).mean()))"
   ]
  },
  {
   "cell_type": "code",
   "execution_count": 6,
   "metadata": {},
   "outputs": [
    {
     "data": {
      "text/plain": [
       "0.6720920102677339"
      ]
     },
     "execution_count": 6,
     "metadata": {},
     "output_type": "execute_result"
    }
   ],
   "source": [
    "cost(x_tr,y_tr,des(x_tr,y_tr,th))"
   ]
  },
  {
   "cell_type": "code",
   "execution_count": 7,
   "metadata": {},
   "outputs": [
    {
     "data": {
      "text/plain": [
       "0.5296854005525277"
      ]
     },
     "execution_count": 7,
     "metadata": {},
     "output_type": "execute_result"
    }
   ],
   "source": [
    "for i in range(100):\n",
    "    th=des(x_tr,y_tr,th)\n",
    "cost(x_tr,y_tr,th)"
   ]
  },
  {
   "cell_type": "code",
   "execution_count": 8,
   "metadata": {},
   "outputs": [],
   "source": [
    "def predict(x,th):\n",
    "    a=sig(np.matmul(th,np.array(x,ndmin=2).T))\n",
    "    return np.where(a>0.5,1,0)\n",
    "    '''if a[0,0]==0.5:\n",
    "        a+=0.01\n",
    "    return np.round(a)\n",
    "    '''"
   ]
  },
  {
   "cell_type": "code",
   "execution_count": 9,
   "metadata": {},
   "outputs": [
    {
     "data": {
      "text/plain": [
       "0.8428571428571429"
      ]
     },
     "execution_count": 9,
     "metadata": {},
     "output_type": "execute_result"
    }
   ],
   "source": [
    "c=0\n",
    "for i in range(len(x_ts)):\n",
    "    if predict(x_ts.iloc[i],th)[0]==y_ts[i]:\n",
    "        c+=1\n",
    "c/len(x_ts)"
   ]
  }
 ],
 "metadata": {
  "kernelspec": {
   "display_name": "Python 3",
   "language": "python",
   "name": "python3"
  },
  "language_info": {
   "codemirror_mode": {
    "name": "ipython",
    "version": 3
   },
   "file_extension": ".py",
   "mimetype": "text/x-python",
   "name": "python",
   "nbconvert_exporter": "python",
   "pygments_lexer": "ipython3",
   "version": "3.6.4"
  }
 },
 "nbformat": 4,
 "nbformat_minor": 2
}
